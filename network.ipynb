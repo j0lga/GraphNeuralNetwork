{
 "cells": [
  {
   "cell_type": "code",
   "execution_count": 1,
   "metadata": {},
   "outputs": [],
   "source": [
    "import tensorflow as tf \n",
    "from tensorflow import keras "
   ]
  },
  {
   "cell_type": "code",
   "execution_count": 2,
   "metadata": {},
   "outputs": [
    {
     "data": {
      "text/plain": [
       "[PhysicalDevice(name='/physical_device:CPU:0', device_type='CPU')]"
      ]
     },
     "execution_count": 2,
     "metadata": {},
     "output_type": "execute_result"
    }
   ],
   "source": [
    "tf.constant([1,2,3]) + 1 \n",
    "tf.config.list_physical_devices()\n"
   ]
  },
  {
   "cell_type": "code",
   "execution_count": 3,
   "metadata": {},
   "outputs": [],
   "source": [
    "class MyLayer(keras.layers.Layer):\n",
    "    def __init__(self): \n",
    "        super().__init__()\n",
    "    def build(self, input_shape): \n",
    "        self.w = self.add_weight(shape= (1,), dtype = tf.float32)\n",
    "    def call(self, X): \n",
    "        return tf.cast(X, tf.float32)*self.w\n"
   ]
  },
  {
   "cell_type": "code",
   "execution_count": 4,
   "metadata": {},
   "outputs": [
    {
     "name": "stderr",
     "output_type": "stream",
     "text": [
      "WARNING:absl:lr is deprecated in `optimizer_experimental.Optimizer`, please check the docstring for valid arguments.\n"
     ]
    }
   ],
   "source": [
    "input = keras.layers.Input(shape=(1,), dtype = tf.int32)\n",
    "out = MyLayer()(input)\n",
    "m = keras.Model(inputs = input, outputs = out)\n",
    "m.compile(optimizer=tf.keras.optimizers.Adam(lr= 0.1),\n",
    "              loss='mean_squared_error', metrics=[tf.keras.metrics.RootMeanSquaredError()])\n",
    "\n"
   ]
  },
  {
   "cell_type": "code",
   "execution_count": 28,
   "metadata": {},
   "outputs": [
    {
     "name": "stdout",
     "output_type": "stream",
     "text": [
      "Epoch 1/100\n",
      "1/1 [==============================] - 0s 15ms/step - loss: 0.0920 - root_mean_squared_error: 0.3034\n",
      "Epoch 2/100\n",
      "1/1 [==============================] - 0s 12ms/step - loss: 0.0918 - root_mean_squared_error: 0.3030\n",
      "Epoch 3/100\n",
      "1/1 [==============================] - 0s 10ms/step - loss: 0.0916 - root_mean_squared_error: 0.3026\n",
      "Epoch 4/100\n",
      "1/1 [==============================] - 0s 9ms/step - loss: 0.0913 - root_mean_squared_error: 0.3022\n",
      "Epoch 5/100\n",
      "1/1 [==============================] - 0s 14ms/step - loss: 0.0911 - root_mean_squared_error: 0.3018\n",
      "Epoch 6/100\n",
      "1/1 [==============================] - 0s 10ms/step - loss: 0.0908 - root_mean_squared_error: 0.3014\n",
      "Epoch 7/100\n",
      "1/1 [==============================] - 0s 10ms/step - loss: 0.0906 - root_mean_squared_error: 0.3010\n",
      "Epoch 8/100\n",
      "1/1 [==============================] - 0s 13ms/step - loss: 0.0903 - root_mean_squared_error: 0.3006\n",
      "Epoch 9/100\n",
      "1/1 [==============================] - 0s 12ms/step - loss: 0.0901 - root_mean_squared_error: 0.3002\n",
      "Epoch 10/100\n",
      "1/1 [==============================] - 0s 11ms/step - loss: 0.0899 - root_mean_squared_error: 0.2998\n",
      "Epoch 11/100\n",
      "1/1 [==============================] - 0s 14ms/step - loss: 0.0896 - root_mean_squared_error: 0.2994\n",
      "Epoch 12/100\n",
      "1/1 [==============================] - 0s 14ms/step - loss: 0.0894 - root_mean_squared_error: 0.2990\n",
      "Epoch 13/100\n",
      "1/1 [==============================] - 0s 17ms/step - loss: 0.0892 - root_mean_squared_error: 0.2986\n",
      "Epoch 14/100\n",
      "1/1 [==============================] - 0s 10ms/step - loss: 0.0889 - root_mean_squared_error: 0.2982\n",
      "Epoch 15/100\n",
      "1/1 [==============================] - 0s 10ms/step - loss: 0.0887 - root_mean_squared_error: 0.2978\n",
      "Epoch 16/100\n",
      "1/1 [==============================] - 0s 12ms/step - loss: 0.0884 - root_mean_squared_error: 0.2974\n",
      "Epoch 17/100\n",
      "1/1 [==============================] - 0s 13ms/step - loss: 0.0882 - root_mean_squared_error: 0.2970\n",
      "Epoch 18/100\n",
      "1/1 [==============================] - 0s 13ms/step - loss: 0.0880 - root_mean_squared_error: 0.2966\n",
      "Epoch 19/100\n",
      "1/1 [==============================] - 0s 10ms/step - loss: 0.0877 - root_mean_squared_error: 0.2962\n",
      "Epoch 20/100\n",
      "1/1 [==============================] - 0s 13ms/step - loss: 0.0875 - root_mean_squared_error: 0.2958\n",
      "Epoch 21/100\n",
      "1/1 [==============================] - 0s 9ms/step - loss: 0.0873 - root_mean_squared_error: 0.2954\n",
      "Epoch 22/100\n",
      "1/1 [==============================] - 0s 9ms/step - loss: 0.0870 - root_mean_squared_error: 0.2950\n",
      "Epoch 23/100\n",
      "1/1 [==============================] - 0s 10ms/step - loss: 0.0868 - root_mean_squared_error: 0.2946\n",
      "Epoch 24/100\n",
      "1/1 [==============================] - 0s 8ms/step - loss: 0.0866 - root_mean_squared_error: 0.2942\n",
      "Epoch 25/100\n",
      "1/1 [==============================] - 0s 9ms/step - loss: 0.0863 - root_mean_squared_error: 0.2938\n",
      "Epoch 26/100\n",
      "1/1 [==============================] - 0s 9ms/step - loss: 0.0861 - root_mean_squared_error: 0.2934\n",
      "Epoch 27/100\n",
      "1/1 [==============================] - 0s 10ms/step - loss: 0.0859 - root_mean_squared_error: 0.2930\n",
      "Epoch 28/100\n",
      "1/1 [==============================] - 0s 8ms/step - loss: 0.0856 - root_mean_squared_error: 0.2927\n",
      "Epoch 29/100\n",
      "1/1 [==============================] - 0s 21ms/step - loss: 0.0854 - root_mean_squared_error: 0.2923\n",
      "Epoch 30/100\n",
      "1/1 [==============================] - 0s 10ms/step - loss: 0.0852 - root_mean_squared_error: 0.2919\n",
      "Epoch 31/100\n",
      "1/1 [==============================] - 0s 9ms/step - loss: 0.0850 - root_mean_squared_error: 0.2915\n",
      "Epoch 32/100\n",
      "1/1 [==============================] - 0s 8ms/step - loss: 0.0847 - root_mean_squared_error: 0.2911\n",
      "Epoch 33/100\n",
      "1/1 [==============================] - 0s 9ms/step - loss: 0.0845 - root_mean_squared_error: 0.2907\n",
      "Epoch 34/100\n",
      "1/1 [==============================] - 0s 8ms/step - loss: 0.0843 - root_mean_squared_error: 0.2903\n",
      "Epoch 35/100\n",
      "1/1 [==============================] - 0s 6ms/step - loss: 0.0841 - root_mean_squared_error: 0.2899\n",
      "Epoch 36/100\n",
      "1/1 [==============================] - 0s 8ms/step - loss: 0.0838 - root_mean_squared_error: 0.2895\n",
      "Epoch 37/100\n",
      "1/1 [==============================] - 0s 8ms/step - loss: 0.0836 - root_mean_squared_error: 0.2891\n",
      "Epoch 38/100\n",
      "1/1 [==============================] - 0s 9ms/step - loss: 0.0834 - root_mean_squared_error: 0.2887\n",
      "Epoch 39/100\n",
      "1/1 [==============================] - 0s 8ms/step - loss: 0.0832 - root_mean_squared_error: 0.2884\n",
      "Epoch 40/100\n",
      "1/1 [==============================] - 0s 10ms/step - loss: 0.0829 - root_mean_squared_error: 0.2880\n",
      "Epoch 41/100\n",
      "1/1 [==============================] - 0s 9ms/step - loss: 0.0827 - root_mean_squared_error: 0.2876\n",
      "Epoch 42/100\n",
      "1/1 [==============================] - 0s 8ms/step - loss: 0.0825 - root_mean_squared_error: 0.2872\n",
      "Epoch 43/100\n",
      "1/1 [==============================] - 0s 9ms/step - loss: 0.0823 - root_mean_squared_error: 0.2868\n",
      "Epoch 44/100\n",
      "1/1 [==============================] - 0s 11ms/step - loss: 0.0820 - root_mean_squared_error: 0.2864\n",
      "Epoch 45/100\n",
      "1/1 [==============================] - 0s 8ms/step - loss: 0.0818 - root_mean_squared_error: 0.2860\n",
      "Epoch 46/100\n",
      "1/1 [==============================] - 0s 11ms/step - loss: 0.0816 - root_mean_squared_error: 0.2856\n",
      "Epoch 47/100\n",
      "1/1 [==============================] - 0s 9ms/step - loss: 0.0814 - root_mean_squared_error: 0.2853\n",
      "Epoch 48/100\n",
      "1/1 [==============================] - 0s 10ms/step - loss: 0.0812 - root_mean_squared_error: 0.2849\n",
      "Epoch 49/100\n",
      "1/1 [==============================] - 0s 12ms/step - loss: 0.0809 - root_mean_squared_error: 0.2845\n",
      "Epoch 50/100\n",
      "1/1 [==============================] - 0s 11ms/step - loss: 0.0807 - root_mean_squared_error: 0.2841\n",
      "Epoch 51/100\n",
      "1/1 [==============================] - 0s 14ms/step - loss: 0.0805 - root_mean_squared_error: 0.2837\n",
      "Epoch 52/100\n",
      "1/1 [==============================] - 0s 10ms/step - loss: 0.0803 - root_mean_squared_error: 0.2833\n",
      "Epoch 53/100\n",
      "1/1 [==============================] - 0s 10ms/step - loss: 0.0801 - root_mean_squared_error: 0.2829\n",
      "Epoch 54/100\n",
      "1/1 [==============================] - 0s 9ms/step - loss: 0.0798 - root_mean_squared_error: 0.2826\n",
      "Epoch 55/100\n",
      "1/1 [==============================] - 0s 11ms/step - loss: 0.0796 - root_mean_squared_error: 0.2822\n",
      "Epoch 56/100\n",
      "1/1 [==============================] - 0s 9ms/step - loss: 0.0794 - root_mean_squared_error: 0.2818\n",
      "Epoch 57/100\n",
      "1/1 [==============================] - 0s 10ms/step - loss: 0.0792 - root_mean_squared_error: 0.2814\n",
      "Epoch 58/100\n",
      "1/1 [==============================] - 0s 8ms/step - loss: 0.0790 - root_mean_squared_error: 0.2810\n",
      "Epoch 59/100\n",
      "1/1 [==============================] - 0s 11ms/step - loss: 0.0788 - root_mean_squared_error: 0.2806\n",
      "Epoch 60/100\n",
      "1/1 [==============================] - 0s 10ms/step - loss: 0.0785 - root_mean_squared_error: 0.2803\n",
      "Epoch 61/100\n",
      "1/1 [==============================] - 0s 10ms/step - loss: 0.0783 - root_mean_squared_error: 0.2799\n",
      "Epoch 62/100\n",
      "1/1 [==============================] - 0s 8ms/step - loss: 0.0781 - root_mean_squared_error: 0.2795\n",
      "Epoch 63/100\n",
      "1/1 [==============================] - 0s 10ms/step - loss: 0.0779 - root_mean_squared_error: 0.2791\n",
      "Epoch 64/100\n",
      "1/1 [==============================] - 0s 10ms/step - loss: 0.0777 - root_mean_squared_error: 0.2787\n",
      "Epoch 65/100\n",
      "1/1 [==============================] - 0s 10ms/step - loss: 0.0775 - root_mean_squared_error: 0.2784\n",
      "Epoch 66/100\n",
      "1/1 [==============================] - 0s 9ms/step - loss: 0.0773 - root_mean_squared_error: 0.2780\n",
      "Epoch 67/100\n",
      "1/1 [==============================] - 0s 10ms/step - loss: 0.0771 - root_mean_squared_error: 0.2776\n",
      "Epoch 68/100\n",
      "1/1 [==============================] - 0s 10ms/step - loss: 0.0768 - root_mean_squared_error: 0.2772\n",
      "Epoch 69/100\n",
      "1/1 [==============================] - 0s 9ms/step - loss: 0.0766 - root_mean_squared_error: 0.2768\n",
      "Epoch 70/100\n",
      "1/1 [==============================] - 0s 10ms/step - loss: 0.0764 - root_mean_squared_error: 0.2765\n",
      "Epoch 71/100\n",
      "1/1 [==============================] - 0s 9ms/step - loss: 0.0762 - root_mean_squared_error: 0.2761\n",
      "Epoch 72/100\n",
      "1/1 [==============================] - 0s 9ms/step - loss: 0.0760 - root_mean_squared_error: 0.2757\n",
      "Epoch 73/100\n",
      "1/1 [==============================] - 0s 9ms/step - loss: 0.0758 - root_mean_squared_error: 0.2753\n",
      "Epoch 74/100\n",
      "1/1 [==============================] - 0s 10ms/step - loss: 0.0756 - root_mean_squared_error: 0.2749\n",
      "Epoch 75/100\n",
      "1/1 [==============================] - 0s 8ms/step - loss: 0.0754 - root_mean_squared_error: 0.2746\n",
      "Epoch 76/100\n",
      "1/1 [==============================] - 0s 10ms/step - loss: 0.0752 - root_mean_squared_error: 0.2742\n",
      "Epoch 77/100\n",
      "1/1 [==============================] - 0s 10ms/step - loss: 0.0750 - root_mean_squared_error: 0.2738\n",
      "Epoch 78/100\n",
      "1/1 [==============================] - 0s 11ms/step - loss: 0.0748 - root_mean_squared_error: 0.2734\n",
      "Epoch 79/100\n",
      "1/1 [==============================] - 0s 9ms/step - loss: 0.0746 - root_mean_squared_error: 0.2731\n",
      "Epoch 80/100\n",
      "1/1 [==============================] - 0s 10ms/step - loss: 0.0744 - root_mean_squared_error: 0.2727\n",
      "Epoch 81/100\n",
      "1/1 [==============================] - 0s 11ms/step - loss: 0.0742 - root_mean_squared_error: 0.2723\n",
      "Epoch 82/100\n",
      "1/1 [==============================] - 0s 11ms/step - loss: 0.0739 - root_mean_squared_error: 0.2719\n",
      "Epoch 83/100\n",
      "1/1 [==============================] - 0s 11ms/step - loss: 0.0737 - root_mean_squared_error: 0.2716\n",
      "Epoch 84/100\n",
      "1/1 [==============================] - 0s 11ms/step - loss: 0.0735 - root_mean_squared_error: 0.2712\n",
      "Epoch 85/100\n",
      "1/1 [==============================] - 0s 10ms/step - loss: 0.0733 - root_mean_squared_error: 0.2708\n",
      "Epoch 86/100\n",
      "1/1 [==============================] - 0s 8ms/step - loss: 0.0731 - root_mean_squared_error: 0.2704\n",
      "Epoch 87/100\n",
      "1/1 [==============================] - 0s 10ms/step - loss: 0.0729 - root_mean_squared_error: 0.2701\n",
      "Epoch 88/100\n",
      "1/1 [==============================] - 0s 9ms/step - loss: 0.0727 - root_mean_squared_error: 0.2697\n",
      "Epoch 89/100\n",
      "1/1 [==============================] - 0s 10ms/step - loss: 0.0725 - root_mean_squared_error: 0.2693\n",
      "Epoch 90/100\n",
      "1/1 [==============================] - 0s 11ms/step - loss: 0.0723 - root_mean_squared_error: 0.2689\n",
      "Epoch 91/100\n",
      "1/1 [==============================] - 0s 11ms/step - loss: 0.0721 - root_mean_squared_error: 0.2686\n",
      "Epoch 92/100\n",
      "1/1 [==============================] - 0s 10ms/step - loss: 0.0719 - root_mean_squared_error: 0.2682\n",
      "Epoch 93/100\n",
      "1/1 [==============================] - 0s 8ms/step - loss: 0.0717 - root_mean_squared_error: 0.2678\n",
      "Epoch 94/100\n",
      "1/1 [==============================] - 0s 10ms/step - loss: 0.0715 - root_mean_squared_error: 0.2675\n",
      "Epoch 95/100\n",
      "1/1 [==============================] - 0s 10ms/step - loss: 0.0713 - root_mean_squared_error: 0.2671\n",
      "Epoch 96/100\n",
      "1/1 [==============================] - 0s 9ms/step - loss: 0.0711 - root_mean_squared_error: 0.2667\n",
      "Epoch 97/100\n",
      "1/1 [==============================] - 0s 8ms/step - loss: 0.0709 - root_mean_squared_error: 0.2663\n",
      "Epoch 98/100\n",
      "1/1 [==============================] - 0s 9ms/step - loss: 0.0707 - root_mean_squared_error: 0.2660\n",
      "Epoch 99/100\n",
      "1/1 [==============================] - 0s 9ms/step - loss: 0.0705 - root_mean_squared_error: 0.2656\n",
      "Epoch 100/100\n",
      "1/1 [==============================] - 0s 31ms/step - loss: 0.0704 - root_mean_squared_error: 0.2652\n"
     ]
    },
    {
     "data": {
      "text/plain": [
       "<keras.callbacks.History at 0x1d306b93a90>"
      ]
     },
     "execution_count": 28,
     "metadata": {},
     "output_type": "execute_result"
    }
   ],
   "source": [
    "m.fit(tf.constant([1,]), tf.constant([1.,]), epochs = 100)"
   ]
  },
  {
   "cell_type": "code",
   "execution_count": 29,
   "metadata": {},
   "outputs": [
    {
     "data": {
      "text/plain": [
       "<tf.Tensor: shape=(1,), dtype=float32, numpy=array([0.7351284], dtype=float32)>"
      ]
     },
     "execution_count": 29,
     "metadata": {},
     "output_type": "execute_result"
    }
   ],
   "source": [
    "m(tf.constant(1))"
   ]
  }
 ],
 "metadata": {
  "kernelspec": {
   "display_name": "Python 3.10.7 64-bit",
   "language": "python",
   "name": "python3"
  },
  "language_info": {
   "codemirror_mode": {
    "name": "ipython",
    "version": 3
   },
   "file_extension": ".py",
   "mimetype": "text/x-python",
   "name": "python",
   "nbconvert_exporter": "python",
   "pygments_lexer": "ipython3",
   "version": "3.10.7"
  },
  "orig_nbformat": 4,
  "vscode": {
   "interpreter": {
    "hash": "51ed27a7ef83805e0b3471022d4510b5108711fe97fcfbc1e0589f652026973d"
   }
  }
 },
 "nbformat": 4,
 "nbformat_minor": 2
}
