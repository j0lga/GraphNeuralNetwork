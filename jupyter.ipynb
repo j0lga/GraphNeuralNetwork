{
 "cells": [
  {
   "cell_type": "code",
   "execution_count": 7,
   "metadata": {},
   "outputs": [],
   "source": [
    "import tensorflow as tf \n",
    "import tensorflow.keras as keras \n",
    "\n"
   ]
  },
  {
   "cell_type": "code",
   "execution_count": 3,
   "metadata": {},
   "outputs": [
    {
     "data": {
      "text/plain": [
       "<tf.Tensor: shape=(3,), dtype=int32, numpy=array([2, 3, 4])>"
      ]
     },
     "execution_count": 3,
     "metadata": {},
     "output_type": "execute_result"
    }
   ],
   "source": [
    "tf.constant([1,2,3]) + 1 "
   ]
  },
  {
   "cell_type": "code",
   "execution_count": 32,
   "metadata": {},
   "outputs": [
    {
     "data": {
      "text/plain": [
       "[PhysicalDevice(name='/physical_device:CPU:0', device_type='CPU')]"
      ]
     },
     "execution_count": 32,
     "metadata": {},
     "output_type": "execute_result"
    }
   ],
   "source": [
    "tf.config.list_physical_devices()"
   ]
  },
  {
   "cell_type": "code",
   "execution_count": 29,
   "metadata": {},
   "outputs": [],
   "source": [
    "class MyLayer(keras.layers.Layer):\n",
    "    def __init__(self): \n",
    "        super().__init__()\n",
    "    def build(self, input_shape): \n",
    "        self.w = self.add_weight(shape= (1,), dtype = tf.float32)\n",
    "    def call(self, X): \n",
    "        return tf.cast(X, tf.float32)*self.w\n"
   ]
  },
  {
   "cell_type": "code",
   "execution_count": 56,
   "metadata": {},
   "outputs": [
    {
     "name": "stderr",
     "output_type": "stream",
     "text": [
      "WARNING:absl:lr is deprecated in `optimizer_experimental.Optimizer`, please check the docstring for valid arguments.\n"
     ]
    }
   ],
   "source": [
    "input = keras.layers.Input(shape=(1,), dtype = tf.int32)\n",
    "out = MyLayer()(input)\n",
    "m = keras.Model(inputs = input, outputs = out)\n",
    "m.compile(optimizer=tf.keras.optimizers.Adam(lr= 0.1),\n",
    "              loss='mean_squared_error', metrics=[tf.keras.metrics.RootMeanSquaredError()])\n",
    "\n"
   ]
  },
  {
   "cell_type": "code",
   "execution_count": 58,
   "metadata": {},
   "outputs": [
    {
     "name": "stdout",
     "output_type": "stream",
     "text": [
      "Epoch 1/100\n",
      "1/1 [==============================] - 0s 18ms/step - loss: 8.2731e-09 - root_mean_squared_error: 9.0957e-05\n",
      "Epoch 2/100\n",
      "1/1 [==============================] - 0s 10ms/step - loss: 2.2737e-09 - root_mean_squared_error: 4.7684e-05\n",
      "Epoch 3/100\n",
      "1/1 [==============================] - 0s 10ms/step - loss: 6.9633e-11 - root_mean_squared_error: 8.3447e-06\n",
      "Epoch 4/100\n",
      "1/1 [==============================] - 0s 9ms/step - loss: 7.4849e-10 - root_mean_squared_error: 2.7359e-05\n",
      "Epoch 5/100\n",
      "1/1 [==============================] - 0s 8ms/step - loss: 3.5385e-09 - root_mean_squared_error: 5.9485e-05\n",
      "Epoch 6/100\n",
      "1/1 [==============================] - 0s 9ms/step - loss: 7.8029e-09 - root_mean_squared_error: 8.8334e-05\n",
      "Epoch 7/100\n",
      "1/1 [==============================] - 0s 11ms/step - loss: 1.3001e-08 - root_mean_squared_error: 1.1402e-04\n",
      "Epoch 8/100\n",
      "1/1 [==============================] - 0s 10ms/step - loss: 1.8712e-08 - root_mean_squared_error: 1.3679e-04\n",
      "Epoch 9/100\n",
      "1/1 [==============================] - 0s 13ms/step - loss: 2.4592e-08 - root_mean_squared_error: 1.5682e-04\n",
      "Epoch 10/100\n",
      "1/1 [==============================] - 0s 19ms/step - loss: 3.0354e-08 - root_mean_squared_error: 1.7422e-04\n",
      "Epoch 11/100\n",
      "1/1 [==============================] - 0s 12ms/step - loss: 3.5814e-08 - root_mean_squared_error: 1.8924e-04\n",
      "Epoch 12/100\n",
      "1/1 [==============================] - 0s 10ms/step - loss: 4.0804e-08 - root_mean_squared_error: 2.0200e-04\n",
      "Epoch 13/100\n",
      "1/1 [==============================] - 0s 9ms/step - loss: 4.5228e-08 - root_mean_squared_error: 2.1267e-04\n",
      "Epoch 14/100\n",
      "1/1 [==============================] - 0s 18ms/step - loss: 4.9005e-08 - root_mean_squared_error: 2.2137e-04\n",
      "Epoch 15/100\n",
      "1/1 [==============================] - 0s 11ms/step - loss: 5.2087e-08 - root_mean_squared_error: 2.2823e-04\n",
      "Epoch 16/100\n",
      "1/1 [==============================] - 0s 11ms/step - loss: 5.4481e-08 - root_mean_squared_error: 2.3341e-04\n",
      "Epoch 17/100\n",
      "1/1 [==============================] - 0s 12ms/step - loss: 5.6220e-08 - root_mean_squared_error: 2.3711e-04\n",
      "Epoch 18/100\n",
      "1/1 [==============================] - 0s 12ms/step - loss: 5.7299e-08 - root_mean_squared_error: 2.3937e-04\n",
      "Epoch 19/100\n",
      "1/1 [==============================] - 0s 10ms/step - loss: 5.7757e-08 - root_mean_squared_error: 2.4033e-04\n",
      "Epoch 20/100\n",
      "1/1 [==============================] - 0s 12ms/step - loss: 5.7671e-08 - root_mean_squared_error: 2.4015e-04\n",
      "Epoch 21/100\n",
      "1/1 [==============================] - 0s 10ms/step - loss: 5.7071e-08 - root_mean_squared_error: 2.3890e-04\n",
      "Epoch 22/100\n",
      "1/1 [==============================] - 0s 18ms/step - loss: 5.6022e-08 - root_mean_squared_error: 2.3669e-04\n",
      "Epoch 23/100\n",
      "1/1 [==============================] - 0s 18ms/step - loss: 5.4565e-08 - root_mean_squared_error: 2.3359e-04\n",
      "Epoch 24/100\n",
      "1/1 [==============================] - 0s 12ms/step - loss: 5.2770e-08 - root_mean_squared_error: 2.2972e-04\n",
      "Epoch 25/100\n",
      "1/1 [==============================] - 0s 16ms/step - loss: 5.0709e-08 - root_mean_squared_error: 2.2519e-04\n",
      "Epoch 26/100\n",
      "1/1 [==============================] - 0s 16ms/step - loss: 4.8400e-08 - root_mean_squared_error: 2.2000e-04\n",
      "Epoch 27/100\n",
      "1/1 [==============================] - 0s 20ms/step - loss: 4.5941e-08 - root_mean_squared_error: 2.1434e-04\n",
      "Epoch 28/100\n",
      "1/1 [==============================] - 0s 11ms/step - loss: 4.3347e-08 - root_mean_squared_error: 2.0820e-04\n",
      "Epoch 29/100\n",
      "1/1 [==============================] - 0s 13ms/step - loss: 4.0684e-08 - root_mean_squared_error: 2.0170e-04\n",
      "Epoch 30/100\n",
      "1/1 [==============================] - 0s 15ms/step - loss: 3.7966e-08 - root_mean_squared_error: 1.9485e-04\n",
      "Epoch 31/100\n",
      "1/1 [==============================] - 0s 14ms/step - loss: 3.5252e-08 - root_mean_squared_error: 1.8775e-04\n",
      "Epoch 32/100\n",
      "1/1 [==============================] - 0s 9ms/step - loss: 3.2553e-08 - root_mean_squared_error: 1.8042e-04\n",
      "Epoch 33/100\n",
      "1/1 [==============================] - 0s 10ms/step - loss: 2.9920e-08 - root_mean_squared_error: 1.7297e-04\n",
      "Epoch 34/100\n",
      "1/1 [==============================] - 0s 9ms/step - loss: 2.7358e-08 - root_mean_squared_error: 1.6540e-04\n",
      "Epoch 35/100\n",
      "1/1 [==============================] - 0s 12ms/step - loss: 2.4892e-08 - root_mean_squared_error: 1.5777e-04\n",
      "Epoch 36/100\n",
      "1/1 [==============================] - 0s 9ms/step - loss: 2.2543e-08 - root_mean_squared_error: 1.5014e-04\n",
      "Epoch 37/100\n",
      "1/1 [==============================] - 0s 14ms/step - loss: 2.0310e-08 - root_mean_squared_error: 1.4251e-04\n",
      "Epoch 38/100\n",
      "1/1 [==============================] - 0s 12ms/step - loss: 1.8194e-08 - root_mean_squared_error: 1.3489e-04\n",
      "Epoch 39/100\n",
      "1/1 [==============================] - 0s 11ms/step - loss: 1.6224e-08 - root_mean_squared_error: 1.2738e-04\n",
      "Epoch 40/100\n",
      "1/1 [==============================] - 0s 11ms/step - loss: 1.4382e-08 - root_mean_squared_error: 1.1992e-04\n",
      "Epoch 41/100\n",
      "1/1 [==============================] - 0s 11ms/step - loss: 1.2691e-08 - root_mean_squared_error: 1.1265e-04\n",
      "Epoch 42/100\n",
      "1/1 [==============================] - 0s 18ms/step - loss: 1.1130e-08 - root_mean_squared_error: 1.0550e-04\n",
      "Epoch 43/100\n",
      "1/1 [==============================] - 0s 20ms/step - loss: 9.7075e-09 - root_mean_squared_error: 9.8526e-05\n",
      "Epoch 44/100\n",
      "1/1 [==============================] - 0s 17ms/step - loss: 8.4147e-09 - root_mean_squared_error: 9.1732e-05\n",
      "Epoch 45/100\n",
      "1/1 [==============================] - 0s 13ms/step - loss: 7.2446e-09 - root_mean_squared_error: 8.5115e-05\n",
      "Epoch 46/100\n",
      "1/1 [==============================] - 0s 12ms/step - loss: 6.1996e-09 - root_mean_squared_error: 7.8738e-05\n",
      "Epoch 47/100\n",
      "1/1 [==============================] - 0s 9ms/step - loss: 5.2705e-09 - root_mean_squared_error: 7.2598e-05\n",
      "Epoch 48/100\n",
      "1/1 [==============================] - 0s 9ms/step - loss: 4.4406e-09 - root_mean_squared_error: 6.6638e-05\n",
      "Epoch 49/100\n",
      "1/1 [==============================] - 0s 13ms/step - loss: 3.7108e-09 - root_mean_squared_error: 6.0916e-05\n",
      "Epoch 50/100\n",
      "1/1 [==============================] - 0s 13ms/step - loss: 3.0794e-09 - root_mean_squared_error: 5.5492e-05\n",
      "Epoch 51/100\n",
      "1/1 [==============================] - 0s 16ms/step - loss: 2.5307e-09 - root_mean_squared_error: 5.0306e-05\n",
      "Epoch 52/100\n",
      "1/1 [==============================] - 0s 15ms/step - loss: 2.0575e-09 - root_mean_squared_error: 4.5359e-05\n",
      "Epoch 53/100\n",
      "1/1 [==============================] - 0s 16ms/step - loss: 1.6525e-09 - root_mean_squared_error: 4.0650e-05\n",
      "Epoch 54/100\n",
      "1/1 [==============================] - 0s 13ms/step - loss: 1.3090e-09 - root_mean_squared_error: 3.6180e-05\n",
      "Epoch 55/100\n",
      "1/1 [==============================] - 0s 11ms/step - loss: 1.0207e-09 - root_mean_squared_error: 3.1948e-05\n",
      "Epoch 56/100\n",
      "1/1 [==============================] - 0s 9ms/step - loss: 7.8146e-10 - root_mean_squared_error: 2.7955e-05\n",
      "Epoch 57/100\n",
      "1/1 [==============================] - 0s 8ms/step - loss: 5.8562e-10 - root_mean_squared_error: 2.4199e-05\n",
      "Epoch 58/100\n",
      "1/1 [==============================] - 0s 8ms/step - loss: 4.2778e-10 - root_mean_squared_error: 2.0683e-05\n",
      "Epoch 59/100\n",
      "1/1 [==============================] - 0s 11ms/step - loss: 3.0292e-10 - root_mean_squared_error: 1.7405e-05\n",
      "Epoch 60/100\n",
      "1/1 [==============================] - 0s 9ms/step - loss: 2.0635e-10 - root_mean_squared_error: 1.4365e-05\n",
      "Epoch 61/100\n",
      "1/1 [==============================] - 0s 10ms/step - loss: 1.3371e-10 - root_mean_squared_error: 1.1563e-05\n",
      "Epoch 62/100\n",
      "1/1 [==============================] - 0s 8ms/step - loss: 7.9936e-11 - root_mean_squared_error: 8.9407e-06\n",
      "Epoch 63/100\n",
      "1/1 [==============================] - 0s 10ms/step - loss: 4.2988e-11 - root_mean_squared_error: 6.5565e-06\n",
      "Epoch 64/100\n",
      "1/1 [==============================] - 0s 13ms/step - loss: 1.8932e-11 - root_mean_squared_error: 4.3511e-06\n",
      "Epoch 65/100\n",
      "1/1 [==============================] - 0s 15ms/step - loss: 5.4037e-12 - root_mean_squared_error: 2.3246e-06\n",
      "Epoch 66/100\n",
      "1/1 [==============================] - 0s 15ms/step - loss: 2.2737e-13 - root_mean_squared_error: 4.7684e-07\n",
      "Epoch 67/100\n",
      "1/1 [==============================] - 0s 7ms/step - loss: 1.4211e-12 - root_mean_squared_error: 1.1921e-06\n",
      "Epoch 68/100\n",
      "1/1 [==============================] - 0s 9ms/step - loss: 7.5175e-12 - root_mean_squared_error: 2.7418e-06\n",
      "Epoch 69/100\n",
      "1/1 [==============================] - 0s 11ms/step - loss: 1.6428e-11 - root_mean_squared_error: 4.0531e-06\n",
      "Epoch 70/100\n",
      "1/1 [==============================] - 0s 10ms/step - loss: 2.7512e-11 - root_mean_squared_error: 5.2452e-06\n",
      "Epoch 71/100\n",
      "1/1 [==============================] - 0s 12ms/step - loss: 3.9918e-11 - root_mean_squared_error: 6.3181e-06\n",
      "Epoch 72/100\n",
      "1/1 [==============================] - 0s 14ms/step - loss: 5.2879e-11 - root_mean_squared_error: 7.2718e-06\n",
      "Epoch 73/100\n",
      "1/1 [==============================] - 0s 12ms/step - loss: 6.3793e-11 - root_mean_squared_error: 7.9870e-06\n",
      "Epoch 74/100\n",
      "1/1 [==============================] - 0s 10ms/step - loss: 7.3669e-11 - root_mean_squared_error: 8.5831e-06\n",
      "Epoch 75/100\n",
      "1/1 [==============================] - 0s 15ms/step - loss: 8.4256e-11 - root_mean_squared_error: 9.1791e-06\n",
      "Epoch 76/100\n",
      "1/1 [==============================] - 0s 11ms/step - loss: 9.3237e-11 - root_mean_squared_error: 9.6560e-06\n",
      "Epoch 77/100\n",
      "1/1 [==============================] - 0s 11ms/step - loss: 1.0027e-10 - root_mean_squared_error: 1.0014e-05\n",
      "Epoch 78/100\n",
      "1/1 [==============================] - 0s 16ms/step - loss: 1.0510e-10 - root_mean_squared_error: 1.0252e-05\n",
      "Epoch 79/100\n",
      "1/1 [==============================] - 0s 14ms/step - loss: 1.0756e-10 - root_mean_squared_error: 1.0371e-05\n",
      "Epoch 80/100\n",
      "1/1 [==============================] - 0s 15ms/step - loss: 1.1005e-10 - root_mean_squared_error: 1.0490e-05\n",
      "Epoch 81/100\n",
      "1/1 [==============================] - 0s 16ms/step - loss: 1.1005e-10 - root_mean_squared_error: 1.0490e-05\n",
      "Epoch 82/100\n",
      "1/1 [==============================] - 0s 10ms/step - loss: 1.1005e-10 - root_mean_squared_error: 1.0490e-05\n",
      "Epoch 83/100\n",
      "1/1 [==============================] - 0s 11ms/step - loss: 1.0756e-10 - root_mean_squared_error: 1.0371e-05\n",
      "Epoch 84/100\n",
      "1/1 [==============================] - 0s 9ms/step - loss: 1.0510e-10 - root_mean_squared_error: 1.0252e-05\n",
      "Epoch 85/100\n",
      "1/1 [==============================] - 0s 10ms/step - loss: 1.0027e-10 - root_mean_squared_error: 1.0014e-05\n",
      "Epoch 86/100\n",
      "1/1 [==============================] - 0s 13ms/step - loss: 9.5554e-11 - root_mean_squared_error: 9.7752e-06\n",
      "Epoch 87/100\n",
      "1/1 [==============================] - 0s 13ms/step - loss: 9.0949e-11 - root_mean_squared_error: 9.5367e-06\n",
      "Epoch 88/100\n",
      "1/1 [==============================] - 0s 17ms/step - loss: 8.6459e-11 - root_mean_squared_error: 9.2983e-06\n",
      "Epoch 89/100\n",
      "1/1 [==============================] - 0s 16ms/step - loss: 7.9936e-11 - root_mean_squared_error: 8.9407e-06\n",
      "Epoch 90/100\n",
      "1/1 [==============================] - 0s 14ms/step - loss: 7.3669e-11 - root_mean_squared_error: 8.5831e-06\n",
      "Epoch 91/100\n",
      "1/1 [==============================] - 0s 18ms/step - loss: 6.7658e-11 - root_mean_squared_error: 8.2254e-06\n",
      "Epoch 92/100\n",
      "1/1 [==============================] - 0s 14ms/step - loss: 6.1902e-11 - root_mean_squared_error: 7.8678e-06\n",
      "Epoch 93/100\n",
      "1/1 [==============================] - 0s 16ms/step - loss: 5.6403e-11 - root_mean_squared_error: 7.5102e-06\n",
      "Epoch 94/100\n",
      "1/1 [==============================] - 0s 15ms/step - loss: 5.1159e-11 - root_mean_squared_error: 7.1526e-06\n",
      "Epoch 95/100\n",
      "1/1 [==============================] - 0s 17ms/step - loss: 4.6171e-11 - root_mean_squared_error: 6.7949e-06\n",
      "Epoch 96/100\n",
      "1/1 [==============================] - 0s 13ms/step - loss: 4.1439e-11 - root_mean_squared_error: 6.4373e-06\n",
      "Epoch 97/100\n",
      "1/1 [==============================] - 0s 15ms/step - loss: 3.6962e-11 - root_mean_squared_error: 6.0797e-06\n",
      "Epoch 98/100\n",
      "1/1 [==============================] - 0s 12ms/step - loss: 3.2742e-11 - root_mean_squared_error: 5.7220e-06\n",
      "Epoch 99/100\n",
      "1/1 [==============================] - 0s 14ms/step - loss: 2.8777e-11 - root_mean_squared_error: 5.3644e-06\n",
      "Epoch 100/100\n",
      "1/1 [==============================] - 0s 14ms/step - loss: 2.5068e-11 - root_mean_squared_error: 5.0068e-06\n"
     ]
    },
    {
     "data": {
      "text/plain": [
       "<keras.callbacks.History at 0x1a8f2898640>"
      ]
     },
     "execution_count": 58,
     "metadata": {},
     "output_type": "execute_result"
    }
   ],
   "source": [
    "m.fit(tf.constant([1,]), tf.constant([1.,]), epochs = 100)"
   ]
  },
  {
   "cell_type": "markdown",
   "metadata": {},
   "source": []
  },
  {
   "cell_type": "code",
   "execution_count": 59,
   "metadata": {},
   "outputs": [
    {
     "data": {
      "text/plain": [
       "<tf.Tensor: shape=(1,), dtype=float32, numpy=array([1.0000046], dtype=float32)>"
      ]
     },
     "execution_count": 59,
     "metadata": {},
     "output_type": "execute_result"
    }
   ],
   "source": [
    "m(tf.constant(1))"
   ]
  },
  {
   "cell_type": "code",
   "execution_count": 62,
   "metadata": {},
   "outputs": [
    {
     "data": {
      "text/plain": [
       "{'X': <tf.Tensor: shape=(3, 2), dtype=float32, numpy=\n",
       " array([[1., 1.],\n",
       "        [2., 1.],\n",
       "        [1., 2.]], dtype=float32)>,\n",
       " 'ref_a': <tf.Tensor: shape=(2,), dtype=int32, numpy=array([0, 0])>,\n",
       " 'ref_b': <tf.Tensor: shape=(2,), dtype=int32, numpy=array([1, 2])>}"
      ]
     },
     "execution_count": 62,
     "metadata": {},
     "output_type": "execute_result"
    }
   ],
   "source": [
    "X = tf.constant([[1,1],[2,1],[1,2]],dtype=tf.float32)\n",
    "ref_a = tf.constant([0, 0])\n",
    "ref_b = tf.constant([1, 2])\n",
    "#coordinates of A \n",
    "inputs=dict(X=X,ref_a=ref_a,ref_b=ref_b)\n",
    "inputs\n",
    "tf.gather, tf.scatter"
   ]
  }
 ],
 "metadata": {
  "kernelspec": {
   "display_name": "Python 3.10.7 64-bit",
   "language": "python",
   "name": "python3"
  },
  "language_info": {
   "codemirror_mode": {
    "name": "ipython",
    "version": 3
   },
   "file_extension": ".py",
   "mimetype": "text/x-python",
   "name": "python",
   "nbconvert_exporter": "python",
   "pygments_lexer": "ipython3",
   "version": "3.10.7"
  },
  "orig_nbformat": 4,
  "vscode": {
   "interpreter": {
    "hash": "51ed27a7ef83805e0b3471022d4510b5108711fe97fcfbc1e0589f652026973d"
   }
  }
 },
 "nbformat": 4,
 "nbformat_minor": 2
}
