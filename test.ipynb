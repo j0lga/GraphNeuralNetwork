{
 "cells": [
  {
   "cell_type": "code",
   "execution_count": 48,
   "metadata": {},
   "outputs": [
    {
     "name": "stdout",
     "output_type": "stream",
     "text": [
      "The autoreload extension is already loaded. To reload it, use:\n",
      "  %reload_ext autoreload\n"
     ]
    }
   ],
   "source": [
    "%load_ext autoreload\n",
    "%autoreload 2\n",
    "import tensorflow as tf\n",
    "import numpy as np\n",
    "import batching \n",
    "import convL \n",
    "import convo \n",
    "import model \n",
    "import poolingL \n",
    "import funcy as fy \n"
   ]
  },
  {
   "cell_type": "code",
   "execution_count": 49,
   "metadata": {},
   "outputs": [
    {
     "name": "stdout",
     "output_type": "stream",
     "text": [
      "<class 'tuple'>\n",
      "({'edge_index': array([[ 0,  1,  1,  2,  2,  3,  3,  4,  4,  5,  5,  6,  6,  7,  7,  8,\n",
      "         6,  9,  4, 10, 10, 11, 11, 12, 12, 13, 11, 14, 14, 15, 15, 16,\n",
      "        16, 17, 15, 18,  9,  2, 18,  4],\n",
      "       [ 1,  0,  2,  1,  3,  2,  4,  3,  5,  4,  6,  5,  7,  6,  8,  7,\n",
      "         9,  6, 10,  4, 11, 10, 12, 11, 13, 12, 14, 11, 15, 14, 16, 15,\n",
      "        17, 16, 18, 15,  2,  9,  4, 18]], dtype=int64), 'edge_feat': array([[0, 0, 0],\n",
      "       [0, 0, 0],\n",
      "       [0, 0, 0],\n",
      "       [0, 0, 0],\n",
      "       [1, 0, 0],\n",
      "       [1, 0, 0],\n",
      "       [0, 0, 0],\n",
      "       [0, 0, 0],\n",
      "       [0, 0, 0],\n",
      "       [0, 0, 0],\n",
      "       [1, 0, 0],\n",
      "       [1, 0, 0],\n",
      "       [0, 0, 0],\n",
      "       [0, 0, 0],\n",
      "       [0, 0, 0],\n",
      "       [0, 0, 0],\n",
      "       [0, 0, 0],\n",
      "       [0, 0, 0],\n",
      "       [0, 0, 0],\n",
      "       [0, 0, 0],\n",
      "       [1, 0, 0],\n",
      "       [1, 0, 0],\n",
      "       [0, 0, 0],\n",
      "       [0, 0, 0],\n",
      "       [0, 0, 0],\n",
      "       [0, 0, 0],\n",
      "       [0, 0, 0],\n",
      "       [0, 0, 0],\n",
      "       [0, 0, 0],\n",
      "       [0, 0, 0],\n",
      "       [0, 0, 0],\n",
      "       [0, 0, 0],\n",
      "       [0, 0, 0],\n",
      "       [0, 0, 0],\n",
      "       [1, 0, 0],\n",
      "       [1, 0, 0],\n",
      "       [0, 0, 0],\n",
      "       [0, 0, 0],\n",
      "       [0, 0, 0],\n",
      "       [0, 0, 0]], dtype=int64), 'node_feat': array([[ 5,  0,  4,  5,  3,  0,  2,  0,  0],\n",
      "       [ 5,  0,  4,  5,  2,  0,  2,  0,  0],\n",
      "       [ 5,  0,  3,  5,  0,  0,  1,  0,  1],\n",
      "       [ 7,  0,  2,  6,  0,  0,  1,  0,  1],\n",
      "       [28,  0,  4,  2,  0,  0,  5,  0,  1],\n",
      "       [ 7,  0,  2,  6,  0,  0,  1,  0,  1],\n",
      "       [ 5,  0,  3,  5,  0,  0,  1,  0,  1],\n",
      "       [ 5,  0,  4,  5,  2,  0,  2,  0,  0],\n",
      "       [ 5,  0,  4,  5,  3,  0,  2,  0,  0],\n",
      "       [ 5,  0,  4,  5,  2,  0,  2,  0,  1],\n",
      "       [ 7,  0,  2,  6,  0,  0,  1,  0,  1],\n",
      "       [ 5,  0,  3,  5,  0,  0,  1,  0,  1],\n",
      "       [ 5,  0,  4,  5,  2,  0,  2,  0,  0],\n",
      "       [ 5,  0,  4,  5,  3,  0,  2,  0,  0],\n",
      "       [ 5,  0,  4,  5,  2,  0,  2,  0,  1],\n",
      "       [ 5,  0,  3,  5,  0,  0,  1,  0,  1],\n",
      "       [ 5,  0,  4,  5,  2,  0,  2,  0,  0],\n",
      "       [ 5,  0,  4,  5,  3,  0,  2,  0,  0],\n",
      "       [ 7,  0,  2,  6,  0,  0,  1,  0,  1]], dtype=int64), 'num_nodes': 19}, array([0], dtype=int64))\n"
     ]
    }
   ],
   "source": [
    "first_graph =(batching.dataset[0])\n",
    "print(type(first_graph))\n",
    "print(first_graph)\n"
   ]
  },
  {
   "cell_type": "code",
   "execution_count": 53,
   "metadata": {},
   "outputs": [
    {
     "name": "stdout",
     "output_type": "stream",
     "text": [
      "X [1 1 2 2]\n",
      "ref_A [0 1 1 0]\n",
      "ref_B [1 3 2 2]\n"
     ]
    }
   ],
   "source": [
    "from collections import ChainMap\n",
    "G = {\n",
    "    'X': np.array([1,1,1]), \n",
    "    'ref_A': np.array([0,1]),\n",
    "    'ref_B': np.array([1,2])}\n",
    "H = {\n",
    "    'X': np.array([1,1,2,2]), \n",
    "    'ref_A': np.array([0,1,1,0]),\n",
    "    'ref_B': np.array([1,3,2,2])}\n",
    "\n",
    "test_batch = dict(G, **H)\n",
    "\n",
    "for key, value in test_batch.items(): \n",
    "    print(key, value)"
   ]
  },
  {
   "cell_type": "code",
   "execution_count": 71,
   "metadata": {},
   "outputs": [
    {
     "name": "stdout",
     "output_type": "stream",
     "text": [
      "<generator object _cut_seq.<locals>.<genexpr> at 0x000001373C2BA180>\n"
     ]
    }
   ],
   "source": [
    "#test_chunks = fy.chunks()\n",
    "\n",
    "n = fy.chunks(2, [1,2,34,56,7,8,23,4])\n",
    "print(n)"
   ]
  },
  {
   "cell_type": "code",
   "execution_count": 74,
   "metadata": {},
   "outputs": [
    {
     "name": "stdout",
     "output_type": "stream",
     "text": [
      "X [[5 0 4 ... 2 0 0]\n",
      " [5 0 4 ... 2 0 0]\n",
      " [5 0 3 ... 1 0 1]\n",
      " ...\n",
      " [6 0 2 ... 1 1 1]\n",
      " [5 0 3 ... 1 1 1]\n",
      " [5 0 3 ... 1 1 1]]\n",
      "ref_A [  0   1   1 ... 593 600 596]\n",
      "ref_B [  1   0   2 ... 601 596 600]\n",
      "num_nodes [19 39 21 24 10 16 10 18 26 20 13 22 20 42 12 12 12 23 29 37 14  9 18 14\n",
      " 41 15 23 16 18  9]\n"
     ]
    }
   ],
   "source": [
    "# try batching on reg data structures \n",
    "\n",
    "type(batching.first_batch)\n",
    "for key, value in batching.first_batch.items(): \n",
    "    print(key, value)\n",
    "\n",
    "\n",
    "# X [[]] "
   ]
  }
 ],
 "metadata": {
  "kernelspec": {
   "display_name": "Python 3.10.7 64-bit",
   "language": "python",
   "name": "python3"
  },
  "language_info": {
   "codemirror_mode": {
    "name": "ipython",
    "version": 3
   },
   "file_extension": ".py",
   "mimetype": "text/x-python",
   "name": "python",
   "nbconvert_exporter": "python",
   "pygments_lexer": "ipython3",
   "version": "3.10.7"
  },
  "orig_nbformat": 4,
  "vscode": {
   "interpreter": {
    "hash": "51ed27a7ef83805e0b3471022d4510b5108711fe97fcfbc1e0589f652026973d"
   }
  }
 },
 "nbformat": 4,
 "nbformat_minor": 2
}
