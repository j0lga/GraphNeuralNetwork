{
 "cells": [
  {
   "cell_type": "code",
   "execution_count": 17,
   "metadata": {},
   "outputs": [],
   "source": [
    "%reload_ext autoreload\n",
    "%autoreload 2\n",
    "import tensorflow as tf \n",
    "from tensorflow import keras \n",
    "import numpy as np \n",
    "import convo as c \n",
    "import convL \n",
    "import model "
   ]
  },
  {
   "cell_type": "code",
   "execution_count": 19,
   "metadata": {},
   "outputs": [],
   "source": [
    "\n",
    "def convolution(X, ref_A,  ref_B, mask=None):\n",
    "\n",
    "    #X_a = tf.gather(X, ref_A, axis=0)\n",
    "    X_b = tf.gather(X, ref_B, axis=0)\n",
    "    if mask is not None:\n",
    "        X_b *= mask\n",
    "    X_aggregate = tf.scatter_nd(tf.expand_dims(\n",
    "        ref_A, axis=- 1), X_b, shape=tf.shape(X))\n",
    "\n",
    "    return X_aggregate\n",
    "\n",
    "# python efficiency -->apply twice in layer  corresponds to D^(-1/2) X\n",
    "\n",
    "\n",
    "def normalization(X, ref_A, ref_B, mask=None):\n",
    "    X_norm = tf.ones(shape=(tf.shape(X)[0], tf.shape(\n",
    "        mask)[1] if mask is not None else 1))  # num_nodes\n",
    "    d = convolution(X_norm, ref_A, ref_B, mask) + 1\n",
    "    d_rsqrt = tf.math.rsqrt(d)\n",
    "\n",
    "\n",
    "inputs = {'X': keras.Input(shape=(9,), dtype=tf.float32, name='X'),\n",
    "          'ref_A': keras.Input((), dtype=tf.int32, name='ref_A'),\n",
    "          'ref_B': keras.Input((), dtype=tf.int32, name='ref_B'),\n",
    "          'num_nodes': keras.Input((), dtype=tf.int32, name='num_nodes')}\n"
   ]
  },
  {
   "cell_type": "code",
   "execution_count": 24,
   "metadata": {},
   "outputs": [
    {
     "name": "stdout",
     "output_type": "stream",
     "text": [
      "{'X': <KerasTensor: shape=(None, 32) dtype=float32 (created by layer 'convolution_layer_2')>, 'ref_A': <KerasTensor: shape=(None,) dtype=int32 (created by layer 'convolution_layer_2')>, 'ref_B': <KerasTensor: shape=(None,) dtype=int32 (created by layer 'convolution_layer_2')>, 'num_nodes': <KerasTensor: shape=(None,) dtype=int32 (created by layer 'convolution_layer_2')>}\n"
     ]
    },
    {
     "ename": "TypeError",
     "evalue": "Exception encountered when calling layer \"convolution_layer_20\" (type ConvolutionLayer).\n\nin user code:\n\n    File \"c:\\Users\\dnepr\\OneDrive\\Desktop\\python\\Bachelor\\Completed\\convL.py\", line 48, in call  *\n        'X': c.dropout_mask(p, (c.get_shape(result, False))) * result\n\n    TypeError: Input 'y' of 'Mul' Op has type float32 that does not match type int32 of argument 'x'.\n\n\nCall arguments received by layer \"convolution_layer_20\" (type ConvolutionLayer):\n  • inputs={'X': 'tf.Tensor(shape=(None, 9), dtype=float32)', 'ref_A': 'tf.Tensor(shape=(None,), dtype=int32)', 'ref_B': 'tf.Tensor(shape=(None,), dtype=int32)', 'num_nodes': 'tf.Tensor(shape=(None,), dtype=int32)'}",
     "output_type": "error",
     "traceback": [
      "\u001b[1;31m---------------------------------------------------------------------------\u001b[0m",
      "\u001b[1;31mTypeError\u001b[0m                                 Traceback (most recent call last)",
      "Cell \u001b[1;32mIn [24], line 5\u001b[0m\n\u001b[0;32m      1\u001b[0m \u001b[39mprint\u001b[39m(model\u001b[39m.\u001b[39mconv1)\n\u001b[0;32m      4\u001b[0m conv23 \u001b[39m=\u001b[39m convL\u001b[39m.\u001b[39mConvolutionLayer(\u001b[39m32\u001b[39m)(inputs) \n\u001b[1;32m----> 5\u001b[0m conv2 \u001b[39m=\u001b[39m convL\u001b[39m.\u001b[39;49mConvolutionLayer(\u001b[39m32\u001b[39;49m,  activation\u001b[39m=\u001b[39;49m\u001b[39m'\u001b[39;49m\u001b[39mrelu\u001b[39;49m\u001b[39m'\u001b[39;49m, drop_type\u001b[39m=\u001b[39;49m \u001b[39m'\u001b[39;49m\u001b[39mDropOut\u001b[39;49m\u001b[39m'\u001b[39;49m, p\u001b[39m=\u001b[39;49m\u001b[39m0.5\u001b[39;49m)(inputs)\n\u001b[0;32m      6\u001b[0m \u001b[39mprint\u001b[39m(conv23)\n\u001b[0;32m      8\u001b[0m \u001b[39mprint\u001b[39m(conv23)\n",
      "File \u001b[1;32m~\\AppData\\Roaming\\Python\\Python310\\site-packages\\keras\\utils\\traceback_utils.py:70\u001b[0m, in \u001b[0;36mfilter_traceback.<locals>.error_handler\u001b[1;34m(*args, **kwargs)\u001b[0m\n\u001b[0;32m     67\u001b[0m     filtered_tb \u001b[39m=\u001b[39m _process_traceback_frames(e\u001b[39m.\u001b[39m__traceback__)\n\u001b[0;32m     68\u001b[0m     \u001b[39m# To get the full stack trace, call:\u001b[39;00m\n\u001b[0;32m     69\u001b[0m     \u001b[39m# `tf.debugging.disable_traceback_filtering()`\u001b[39;00m\n\u001b[1;32m---> 70\u001b[0m     \u001b[39mraise\u001b[39;00m e\u001b[39m.\u001b[39mwith_traceback(filtered_tb) \u001b[39mfrom\u001b[39;00m \u001b[39mNone\u001b[39m\n\u001b[0;32m     71\u001b[0m \u001b[39mfinally\u001b[39;00m:\n\u001b[0;32m     72\u001b[0m     \u001b[39mdel\u001b[39;00m filtered_tb\n",
      "File \u001b[1;32m~\\AppData\\Local\\Temp\\__autograph_generated_filecqeg4z_e.py:121\u001b[0m, in \u001b[0;36mouter_factory.<locals>.inner_factory.<locals>.tf__call\u001b[1;34m(self, inputs)\u001b[0m\n\u001b[0;32m    119\u001b[0m         ag__\u001b[39m.\u001b[39mif_stmt(ag__\u001b[39m.\u001b[39mld(drop_type) \u001b[39m==\u001b[39m \u001b[39m'\u001b[39m\u001b[39mNodeSampling\u001b[39m\u001b[39m'\u001b[39m, if_body_2, else_body_2, get_state_2, set_state_2, (\u001b[39m'\u001b[39m\u001b[39mdo_return\u001b[39m\u001b[39m'\u001b[39m, \u001b[39m'\u001b[39m\u001b[39mretval_\u001b[39m\u001b[39m'\u001b[39m), \u001b[39m2\u001b[39m)\n\u001b[0;32m    120\u001b[0m     ag__\u001b[39m.\u001b[39mif_stmt(ag__\u001b[39m.\u001b[39mld(drop_type) \u001b[39m==\u001b[39m \u001b[39m'\u001b[39m\u001b[39mDropOut\u001b[39m\u001b[39m'\u001b[39m, if_body_3, else_body_3, get_state_3, set_state_3, (\u001b[39m'\u001b[39m\u001b[39mdo_return\u001b[39m\u001b[39m'\u001b[39m, \u001b[39m'\u001b[39m\u001b[39mretval_\u001b[39m\u001b[39m'\u001b[39m), \u001b[39m2\u001b[39m)\n\u001b[1;32m--> 121\u001b[0m ag__\u001b[39m.\u001b[39;49mif_stmt(ag__\u001b[39m.\u001b[39;49mld(drop_type) \u001b[39mis\u001b[39;49;00m \u001b[39mNone\u001b[39;49;00m, if_body_4, else_body_4, get_state_4, set_state_4, (\u001b[39m'\u001b[39;49m\u001b[39mdo_return\u001b[39;49m\u001b[39m'\u001b[39;49m, \u001b[39m'\u001b[39;49m\u001b[39mretval_\u001b[39;49m\u001b[39m'\u001b[39;49m), \u001b[39m2\u001b[39;49m)\n\u001b[0;32m    122\u001b[0m \u001b[39mreturn\u001b[39;00m fscope\u001b[39m.\u001b[39mret(retval_, do_return)\n",
      "File \u001b[1;32m~\\AppData\\Local\\Temp\\__autograph_generated_filecqeg4z_e.py:120\u001b[0m, in \u001b[0;36mouter_factory.<locals>.inner_factory.<locals>.tf__call.<locals>.else_body_4\u001b[1;34m()\u001b[0m\n\u001b[0;32m    118\u001b[0m         ag__\u001b[39m.\u001b[39mif_stmt(ag__\u001b[39m.\u001b[39mld(drop_type) \u001b[39m==\u001b[39m \u001b[39m'\u001b[39m\u001b[39mDropEdge\u001b[39m\u001b[39m'\u001b[39m, if_body_1, else_body_1, get_state_1, set_state_1, (\u001b[39m'\u001b[39m\u001b[39mdo_return\u001b[39m\u001b[39m'\u001b[39m, \u001b[39m'\u001b[39m\u001b[39mretval_\u001b[39m\u001b[39m'\u001b[39m), \u001b[39m2\u001b[39m)\n\u001b[0;32m    119\u001b[0m     ag__\u001b[39m.\u001b[39mif_stmt(ag__\u001b[39m.\u001b[39mld(drop_type) \u001b[39m==\u001b[39m \u001b[39m'\u001b[39m\u001b[39mNodeSampling\u001b[39m\u001b[39m'\u001b[39m, if_body_2, else_body_2, get_state_2, set_state_2, (\u001b[39m'\u001b[39m\u001b[39mdo_return\u001b[39m\u001b[39m'\u001b[39m, \u001b[39m'\u001b[39m\u001b[39mretval_\u001b[39m\u001b[39m'\u001b[39m), \u001b[39m2\u001b[39m)\n\u001b[1;32m--> 120\u001b[0m ag__\u001b[39m.\u001b[39;49mif_stmt(ag__\u001b[39m.\u001b[39;49mld(drop_type) \u001b[39m==\u001b[39;49m \u001b[39m'\u001b[39;49m\u001b[39mDropOut\u001b[39;49m\u001b[39m'\u001b[39;49m, if_body_3, else_body_3, get_state_3, set_state_3, (\u001b[39m'\u001b[39;49m\u001b[39mdo_return\u001b[39;49m\u001b[39m'\u001b[39;49m, \u001b[39m'\u001b[39;49m\u001b[39mretval_\u001b[39;49m\u001b[39m'\u001b[39;49m), \u001b[39m2\u001b[39;49m)\n",
      "File \u001b[1;32m~\\AppData\\Local\\Temp\\__autograph_generated_filecqeg4z_e.py:50\u001b[0m, in \u001b[0;36mouter_factory.<locals>.inner_factory.<locals>.tf__call.<locals>.else_body_4.<locals>.if_body_3\u001b[1;34m()\u001b[0m\n\u001b[0;32m     48\u001b[0m \u001b[39mtry\u001b[39;00m:\n\u001b[0;32m     49\u001b[0m     do_return \u001b[39m=\u001b[39m \u001b[39mTrue\u001b[39;00m\n\u001b[1;32m---> 50\u001b[0m     retval_ \u001b[39m=\u001b[39m {\u001b[39m*\u001b[39m\u001b[39m*\u001b[39mag__\u001b[39m.\u001b[39mld(inputs), \u001b[39m'\u001b[39m\u001b[39mX\u001b[39m\u001b[39m'\u001b[39m: ag__\u001b[39m.\u001b[39mconverted_call(ag__\u001b[39m.\u001b[39mld(c)\u001b[39m.\u001b[39mdropout_mask, (ag__\u001b[39m.\u001b[39mld(p), ag__\u001b[39m.\u001b[39mconverted_call(ag__\u001b[39m.\u001b[39mld(c)\u001b[39m.\u001b[39mget_shape, (ag__\u001b[39m.\u001b[39mld(result), \u001b[39mFalse\u001b[39;00m), \u001b[39mNone\u001b[39;00m, fscope)), \u001b[39mNone\u001b[39;00m, fscope) \u001b[39m*\u001b[39m ag__\u001b[39m.\u001b[39mld(result)}\n\u001b[0;32m     51\u001b[0m \u001b[39mexcept\u001b[39;00m:\n\u001b[0;32m     52\u001b[0m     do_return \u001b[39m=\u001b[39m \u001b[39mFalse\u001b[39;00m\n",
      "\u001b[1;31mTypeError\u001b[0m: Exception encountered when calling layer \"convolution_layer_20\" (type ConvolutionLayer).\n\nin user code:\n\n    File \"c:\\Users\\dnepr\\OneDrive\\Desktop\\python\\Bachelor\\Completed\\convL.py\", line 48, in call  *\n        'X': c.dropout_mask(p, (c.get_shape(result, False))) * result\n\n    TypeError: Input 'y' of 'Mul' Op has type float32 that does not match type int32 of argument 'x'.\n\n\nCall arguments received by layer \"convolution_layer_20\" (type ConvolutionLayer):\n  • inputs={'X': 'tf.Tensor(shape=(None, 9), dtype=float32)', 'ref_A': 'tf.Tensor(shape=(None,), dtype=int32)', 'ref_B': 'tf.Tensor(shape=(None,), dtype=int32)', 'num_nodes': 'tf.Tensor(shape=(None,), dtype=int32)'}"
     ]
    }
   ],
   "source": [
    "print(model.conv1)\n",
    "\n",
    "\n",
    "conv23 = convL.ConvolutionLayer(32)(inputs) \n",
    "conv2 = convL.ConvolutionLayer(32,  activation='relu', drop_type= 'DropOut', p=0.5)(inputs)\n",
    "print(conv23)\n",
    "\n",
    "print(conv23)\n",
    "\n"
   ]
  }
 ],
 "metadata": {
  "kernelspec": {
   "display_name": "Python 3.10.7 64-bit",
   "language": "python",
   "name": "python3"
  },
  "language_info": {
   "codemirror_mode": {
    "name": "ipython",
    "version": 3
   },
   "file_extension": ".py",
   "mimetype": "text/x-python",
   "name": "python",
   "nbconvert_exporter": "python",
   "pygments_lexer": "ipython3",
   "version": "3.10.7"
  },
  "orig_nbformat": 4,
  "vscode": {
   "interpreter": {
    "hash": "51ed27a7ef83805e0b3471022d4510b5108711fe97fcfbc1e0589f652026973d"
   }
  }
 },
 "nbformat": 4,
 "nbformat_minor": 2
}
